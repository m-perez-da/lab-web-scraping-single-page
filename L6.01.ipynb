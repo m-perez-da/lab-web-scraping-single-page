{
 "cells": [
  {
   "cell_type": "code",
   "execution_count": 1,
   "id": "9a1aa3ee",
   "metadata": {},
   "outputs": [],
   "source": [
    "# Lab 6.01. Web Scraping Single Page\n",
    "from bs4 import BeautifulSoup\n",
    "import requests\n",
    "import pandas as pd"
   ]
  },
  {
   "cell_type": "code",
   "execution_count": 2,
   "id": "5c6c37eb",
   "metadata": {},
   "outputs": [],
   "source": [
    "# Top 100 Pop Songs in 1987\n",
    "url = \"https://playback.fm/charts/top-100-songs/1987\""
   ]
  },
  {
   "cell_type": "code",
   "execution_count": 3,
   "id": "de0eac78",
   "metadata": {},
   "outputs": [
    {
     "data": {
      "text/plain": [
       "200"
      ]
     },
     "execution_count": 3,
     "metadata": {},
     "output_type": "execute_result"
    }
   ],
   "source": [
    "response = requests.get(url)\n",
    "response.status_code"
   ]
  },
  {
   "cell_type": "code",
   "execution_count": 4,
   "id": "2e15f553",
   "metadata": {},
   "outputs": [],
   "source": [
    "soup = BeautifulSoup(response.content, \"html.parser\")"
   ]
  },
  {
   "cell_type": "code",
   "execution_count": 5,
   "id": "4b7eccd5",
   "metadata": {},
   "outputs": [],
   "source": [
    "# soup"
   ]
  },
  {
   "cell_type": "code",
   "execution_count": 6,
   "id": "31645890",
   "metadata": {},
   "outputs": [
    {
     "data": {
      "text/plain": [
       "[]"
      ]
     },
     "execution_count": 6,
     "metadata": {},
     "output_type": "execute_result"
    }
   ],
   "source": [
    "# container \"#myTable > tbody > tr:nth-child(1) > td:nth-child(2) > a\" doesn't work. I'll use #myTable\n",
    "soup.select(\"#myTable > tbody > tr:nth-child(1) > td:nth-child(2) > a\")"
   ]
  },
  {
   "cell_type": "code",
   "execution_count": 7,
   "id": "f05c5a76",
   "metadata": {},
   "outputs": [],
   "source": [
    "#soup.select(\"#myTable\")"
   ]
  },
  {
   "cell_type": "code",
   "execution_count": 8,
   "id": "e77b7461",
   "metadata": {},
   "outputs": [
    {
     "data": {
      "text/plain": [
       "'\\nWhitney Houston\\n'"
      ]
     },
     "execution_count": 8,
     "metadata": {},
     "output_type": "execute_result"
    }
   ],
   "source": [
    "soup.select(\".artist\")[0].get_text()"
   ]
  },
  {
   "cell_type": "code",
   "execution_count": 9,
   "id": "d9193816",
   "metadata": {},
   "outputs": [
    {
     "data": {
      "text/plain": [
       "100"
      ]
     },
     "execution_count": 9,
     "metadata": {},
     "output_type": "execute_result"
    }
   ],
   "source": [
    "len(soup.select(\".artist\"))"
   ]
  },
  {
   "cell_type": "code",
   "execution_count": 10,
   "id": "d27713f4",
   "metadata": {},
   "outputs": [
    {
     "data": {
      "text/plain": [
       "'\\n\\nI Wanna Dance With Somebody (Who Loves Me)\\n\\n'"
      ]
     },
     "execution_count": 10,
     "metadata": {},
     "output_type": "execute_result"
    }
   ],
   "source": [
    "soup.select(\".song\")[0].get_text()"
   ]
  },
  {
   "cell_type": "code",
   "execution_count": 11,
   "id": "cada6222",
   "metadata": {},
   "outputs": [
    {
     "data": {
      "text/plain": [
       "200"
      ]
     },
     "execution_count": 11,
     "metadata": {},
     "output_type": "execute_result"
    }
   ],
   "source": [
    "len(soup.select(\".song\"))"
   ]
  },
  {
   "cell_type": "code",
   "execution_count": 12,
   "id": "039b4f30",
   "metadata": {},
   "outputs": [
    {
     "data": {
      "text/plain": [
       "[<span class=\"mobile-only song\">\n",
       " <a href=\"/charts/top-100-songs/video/1987/Whitney-Houston-I-Wanna-Dance-With-Somebody-Who-Loves-Me\" itemprop=\"name\">\n",
       " I Wanna Dance With Somebody (Who Loves Me)\n",
       " </a>\n",
       " </span>,\n",
       " <span class=\"song\" itemprop=\"name\">I Wanna Dance With Somebody (Who Loves Me)</span>]"
      ]
     },
     "execution_count": 12,
     "metadata": {},
     "output_type": "execute_result"
    }
   ],
   "source": [
    "soup.select(\".song\")[0:2]    # songs' name are duplicated"
   ]
  },
  {
   "cell_type": "code",
   "execution_count": 13,
   "id": "db880475",
   "metadata": {},
   "outputs": [],
   "source": [
    "artists = []\n",
    "songs = []\n",
    "for i in range(len(soup.select(\".artist\"))):\n",
    "    artists.append(soup.select(\".artist\")[i].get_text().replace('\\n','').lower())\n",
    "    songs.append(soup.select(\".song\")[2*i].get_text().replace('\\n','').lower())"
   ]
  },
  {
   "cell_type": "code",
   "execution_count": 14,
   "id": "8bb48c5c",
   "metadata": {},
   "outputs": [],
   "source": [
    "repository = pd.DataFrame({\"artist\":artists,\n",
    "                       \"song\":songs\n",
    "                          })"
   ]
  },
  {
   "cell_type": "code",
   "execution_count": 15,
   "id": "1f286dcd",
   "metadata": {},
   "outputs": [
    {
     "data": {
      "text/html": [
       "<div>\n",
       "<style scoped>\n",
       "    .dataframe tbody tr th:only-of-type {\n",
       "        vertical-align: middle;\n",
       "    }\n",
       "\n",
       "    .dataframe tbody tr th {\n",
       "        vertical-align: top;\n",
       "    }\n",
       "\n",
       "    .dataframe thead th {\n",
       "        text-align: right;\n",
       "    }\n",
       "</style>\n",
       "<table border=\"1\" class=\"dataframe\">\n",
       "  <thead>\n",
       "    <tr style=\"text-align: right;\">\n",
       "      <th></th>\n",
       "      <th>artist</th>\n",
       "      <th>song</th>\n",
       "    </tr>\n",
       "  </thead>\n",
       "  <tbody>\n",
       "    <tr>\n",
       "      <th>0</th>\n",
       "      <td>whitney houston</td>\n",
       "      <td>i wanna dance with somebody (who loves me)</td>\n",
       "    </tr>\n",
       "    <tr>\n",
       "      <th>1</th>\n",
       "      <td>rick astley</td>\n",
       "      <td>never gonna give you up</td>\n",
       "    </tr>\n",
       "    <tr>\n",
       "      <th>2</th>\n",
       "      <td>george michael</td>\n",
       "      <td>faith</td>\n",
       "    </tr>\n",
       "    <tr>\n",
       "      <th>3</th>\n",
       "      <td>los lobos</td>\n",
       "      <td>la bamba</td>\n",
       "    </tr>\n",
       "    <tr>\n",
       "      <th>4</th>\n",
       "      <td>u2</td>\n",
       "      <td>with or without you</td>\n",
       "    </tr>\n",
       "  </tbody>\n",
       "</table>\n",
       "</div>"
      ],
      "text/plain": [
       "            artist                                        song\n",
       "0  whitney houston  i wanna dance with somebody (who loves me)\n",
       "1      rick astley                     never gonna give you up\n",
       "2   george michael                                       faith\n",
       "3        los lobos                                    la bamba\n",
       "4               u2                         with or without you"
      ]
     },
     "execution_count": 15,
     "metadata": {},
     "output_type": "execute_result"
    }
   ],
   "source": [
    "repository.head()"
   ]
  },
  {
   "cell_type": "code",
   "execution_count": 16,
   "id": "30dbfa24",
   "metadata": {},
   "outputs": [
    {
     "data": {
      "text/plain": [
       "(100, 2)"
      ]
     },
     "execution_count": 16,
     "metadata": {},
     "output_type": "execute_result"
    }
   ],
   "source": [
    "repository.shape"
   ]
  },
  {
   "cell_type": "code",
   "execution_count": 19,
   "id": "a2765ef4",
   "metadata": {},
   "outputs": [],
   "source": [
    "import random"
   ]
  },
  {
   "cell_type": "code",
   "execution_count": 20,
   "id": "2cd1be1d",
   "metadata": {},
   "outputs": [],
   "source": [
    "# function for user entry\n",
    "def user_input ():\n",
    "    user_artist=''\n",
    "    user_song=''\n",
    "    while len(user_artist)==0:\n",
    "        user_artist=input('Enter the name of the artist: ').lower()\n",
    "    while len(user_song)==0:\n",
    "        user_song=input(\"Enter the song's title: \").lower()\n",
    "    num=random.randint(0, len(repository)-1)\n",
    "    print('Recomended song. Title: ' + repository.loc[num, 'song'] + '. ' + 'Artist: '+ repository.loc[num, 'artist'])\n",
    "    return [user_artist, user_song]"
   ]
  },
  {
   "cell_type": "code",
   "execution_count": 29,
   "id": "3d1d9cf2",
   "metadata": {},
   "outputs": [
    {
     "name": "stdout",
     "output_type": "stream",
     "text": [
      "Enter the name of the artist: the housemartins\n",
      "Enter the song's title: me and the farmer\n",
      "Recomended song. Title: with or without you. Artist: u2\n"
     ]
    }
   ],
   "source": [
    "new_song=user_input()"
   ]
  },
  {
   "cell_type": "code",
   "execution_count": 30,
   "id": "d5a5e30e",
   "metadata": {},
   "outputs": [],
   "source": [
    "# funtion to add user entry to repository (and clean duplicates, if any)\n",
    "def add_song (repo, new_song):\n",
    "#    repository.loc[len(repository), ['artist','song']]=new_song\n",
    "    new_row = {'artist': new_song[0], 'song': new_song[1]}\n",
    "    repo = repo.append (new_row, ignore_index=True)\n",
    "    repo = repo.drop_duplicates()   # if the new entry already exists\n",
    "    return repo"
   ]
  },
  {
   "cell_type": "code",
   "execution_count": 31,
   "id": "ec42131d",
   "metadata": {},
   "outputs": [],
   "source": [
    "repository=add_song(repository, new_song)"
   ]
  },
  {
   "cell_type": "code",
   "execution_count": 32,
   "id": "d26b1c7c",
   "metadata": {},
   "outputs": [
    {
     "data": {
      "text/html": [
       "<div>\n",
       "<style scoped>\n",
       "    .dataframe tbody tr th:only-of-type {\n",
       "        vertical-align: middle;\n",
       "    }\n",
       "\n",
       "    .dataframe tbody tr th {\n",
       "        vertical-align: top;\n",
       "    }\n",
       "\n",
       "    .dataframe thead th {\n",
       "        text-align: right;\n",
       "    }\n",
       "</style>\n",
       "<table border=\"1\" class=\"dataframe\">\n",
       "  <thead>\n",
       "    <tr style=\"text-align: right;\">\n",
       "      <th></th>\n",
       "      <th>artist</th>\n",
       "      <th>song</th>\n",
       "    </tr>\n",
       "  </thead>\n",
       "  <tbody>\n",
       "    <tr>\n",
       "      <th>96</th>\n",
       "      <td>the pet shop boys</td>\n",
       "      <td>rent</td>\n",
       "    </tr>\n",
       "    <tr>\n",
       "      <th>97</th>\n",
       "      <td>huey lewis &amp; the news</td>\n",
       "      <td>jacob's ladder</td>\n",
       "    </tr>\n",
       "    <tr>\n",
       "      <th>98</th>\n",
       "      <td>the firm</td>\n",
       "      <td>star trekkin'</td>\n",
       "    </tr>\n",
       "    <tr>\n",
       "      <th>99</th>\n",
       "      <td>herb alpert</td>\n",
       "      <td>diamonds</td>\n",
       "    </tr>\n",
       "    <tr>\n",
       "      <th>101</th>\n",
       "      <td>the housemartins</td>\n",
       "      <td>me and the farmer</td>\n",
       "    </tr>\n",
       "  </tbody>\n",
       "</table>\n",
       "</div>"
      ],
      "text/plain": [
       "                    artist               song\n",
       "96       the pet shop boys               rent\n",
       "97   huey lewis & the news     jacob's ladder\n",
       "98                the firm      star trekkin'\n",
       "99             herb alpert           diamonds\n",
       "101       the housemartins  me and the farmer"
      ]
     },
     "execution_count": 32,
     "metadata": {},
     "output_type": "execute_result"
    }
   ],
   "source": [
    "repository.tail()"
   ]
  },
  {
   "cell_type": "code",
   "execution_count": null,
   "id": "5558a5e9",
   "metadata": {},
   "outputs": [],
   "source": []
  }
 ],
 "metadata": {
  "kernelspec": {
   "display_name": "Python 3 (ipykernel)",
   "language": "python",
   "name": "python3"
  },
  "language_info": {
   "codemirror_mode": {
    "name": "ipython",
    "version": 3
   },
   "file_extension": ".py",
   "mimetype": "text/x-python",
   "name": "python",
   "nbconvert_exporter": "python",
   "pygments_lexer": "ipython3",
   "version": "3.9.7"
  }
 },
 "nbformat": 4,
 "nbformat_minor": 5
}
